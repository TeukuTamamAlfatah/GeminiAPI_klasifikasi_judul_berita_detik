{
 "cells": [
  {
   "cell_type": "code",
   "execution_count": 5,
   "id": "d1d087ee-9698-4502-932d-aab88ad3e48f",
   "metadata": {},
   "outputs": [],
   "source": [
    "import pandas as pd"
   ]
  },
  {
   "cell_type": "code",
   "execution_count": 6,
   "id": "bd92e99b-9a1a-4021-9930-aa0907c979de",
   "metadata": {},
   "outputs": [],
   "source": [
    "df = pd.read_csv('label_data/Lebel_April_2024.csv')\n",
    "df_v1 = pd.read_csv('label_data/Lebel_April_2024_v1.csv')\n",
    "df_v2 = pd.read_csv('label_data/Lebel_April_2024_v2.csv')\n",
    "df_v3 = pd.read_csv('label_data/Lebel_April_2024_v3.csv')\n",
    "df_v4 = pd.read_csv('label_data/Lebel_April_2024_v4.csv')\n",
    "df_v5 = pd.read_csv('label_data/Lebel_April_2024_v5.csv')\n",
    "df_v6 = pd.read_csv('label_data/Lebel_April_2024_v6.csv')"
   ]
  },
  {
   "cell_type": "code",
   "execution_count": 7,
   "id": "e63ab368-680d-4eef-9df7-ce6f32777749",
   "metadata": {},
   "outputs": [],
   "source": [
    "df_combined = pd.concat([df, df_v1, df_v2, df_v3, df_v4, df_v5, df_v6], ignore_index=True)"
   ]
  },
  {
   "cell_type": "code",
   "execution_count": 8,
   "id": "9ae8b5f0-37ac-41d7-9cbe-6adfebdef1cb",
   "metadata": {},
   "outputs": [],
   "source": [
    "# Menyimpan DataFrame gabungan ke file CSV baru\n",
    "df_combined.to_csv('label_data/April_2024_.csv', index=False)"
   ]
  },
  {
   "cell_type": "code",
   "execution_count": 9,
   "id": "1a8cb819-f907-466b-959c-ae171476d918",
   "metadata": {},
   "outputs": [
    {
     "name": "stdout",
     "output_type": "stream",
     "text": [
      "DataFrame gabungan berhasil disimpan ke 'data/Combined_Lebel_April_2024.csv'\n"
     ]
    }
   ],
   "source": [
    "# Menampilkan pesan sukses\n",
    "print(\"DataFrame gabungan berhasil disimpan ke 'data/Combined_Lebel_April_2024.csv'\")"
   ]
  }
 ],
 "metadata": {
  "kernelspec": {
   "display_name": "Python 3 (ipykernel)",
   "language": "python",
   "name": "python3"
  },
  "language_info": {
   "codemirror_mode": {
    "name": "ipython",
    "version": 3
   },
   "file_extension": ".py",
   "mimetype": "text/x-python",
   "name": "python",
   "nbconvert_exporter": "python",
   "pygments_lexer": "ipython3",
   "version": "3.10.13"
  }
 },
 "nbformat": 4,
 "nbformat_minor": 5
}
